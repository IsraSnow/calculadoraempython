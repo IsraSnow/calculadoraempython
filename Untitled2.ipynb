{
  "nbformat": 4,
  "nbformat_minor": 0,
  "metadata": {
    "colab": {
      "provenance": [],
      "authorship_tag": "ABX9TyO9Ik3Qfrs6eqG91J5MHBDn",
      "include_colab_link": true
    },
    "kernelspec": {
      "name": "python3",
      "display_name": "Python 3"
    },
    "language_info": {
      "name": "python"
    }
  },
  "cells": [
    {
      "cell_type": "markdown",
      "metadata": {
        "id": "view-in-github",
        "colab_type": "text"
      },
      "source": [
        "<a href=\"https://colab.research.google.com/github/IsraSnow/calculadoraempython/blob/main/Untitled2.ipynb\" target=\"_parent\"><img src=\"https://colab.research.google.com/assets/colab-badge.svg\" alt=\"Open In Colab\"/></a>"
      ]
    },
    {
      "cell_type": "code",
      "execution_count": null,
      "metadata": {
        "colab": {
          "base_uri": "https://localhost:8080/"
        },
        "id": "fdCD34xgD0QI",
        "outputId": "1faa8f89-7f54-4dd0-b0a5-b19a16744bfc"
      },
      "outputs": [
        {
          "output_type": "stream",
          "name": "stdout",
          "text": [
            "selecione a operaçao desejada:\n",
            "1.adiçao\n",
            "2.subtraçao\n",
            "3.multiplicaçao\n",
            "4.divisao\n",
            "digite o numero da operaçao desejada(1/2/3/4):2\n",
            "digite o primeiro numero:2\n",
            "digite o nuero:2\n",
            "Resultado: 0.0\n"
          ]
        }
      ],
      "source": [
        "print(\"selecione a operaçao desejada:\")\n",
        "print(\"1.adiçao\")\n",
        "print(\"2.subtraçao\")\n",
        "print(\"3.multiplicaçao\")\n",
        "print(\"4.divisao\")\n",
        "\n",
        "opçao=input(\"digite o numero da operaçao desejada(1/2/3/4):\")\n",
        "\n",
        "numero1=float(input(\"digite o primeiro numero:\"))\n",
        "numero2=float(input(\"digite o nuero:\"))\n",
        "\n",
        "if opçao=='1':\n",
        "  resultado=numero1+numero2\n",
        "  print(\"Resultado\",resultado)\n",
        "elif opçao=='2':\n",
        "  resultado=numero1-numero2\n",
        "  print(\"Resultado:\",resultado)\n",
        "elif opçao=='3':\n",
        "  resultado=numero1*numero2\n",
        "  print(\"Resultado:\",resultado)\n",
        "elif opçao=='4':\n",
        "  if numero2 !=0:\n",
        "     resultado=numero1/numero2\n",
        "     print(\"Resultado:\",resultado)\n",
        "  else:\n",
        "     print(\"Erro:Divisao por zero!\")\n",
        "else:\n",
        "  print(\"opçao invalida.Por favor,escolha uma opçao valida.\")"
      ]
    }
  ]
}